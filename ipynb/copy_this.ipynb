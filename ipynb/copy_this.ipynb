{
 "cells": [
  {
   "cell_type": "code",
   "execution_count": 2,
   "metadata": {
    "ExecuteTime": {
     "end_time": "2020-05-30T07:10:09.692721Z",
     "start_time": "2020-05-30T07:10:09.672041Z"
    }
   },
   "outputs": [],
   "source": [
    "%matplotlib inline\n",
    "\n",
    "import numpy as np\n",
    "import pandas as pd\n",
    "import pathlib\n",
    "import sys\n",
    "import warnings\n",
    "\n",
    "warnings.filterwarnings(action='ignore')\n",
    "\n",
    "abs_path = ''\n",
    "current_path = pathlib.Path().absolute()\n",
    "\n",
    "for path_name in str(current_path).split('/'):\n",
    "    abs_path += path_name + '/'\n",
    "\n",
    "    if path_name == 'melon-playlist-continuation':\n",
    "         break\n",
    "\n",
    "# sys.path.insert(0, abs_path)\n",
    "sys.path.append(abs_path)\n",
    "\n",
    "from util import (\n",
    "    get_absolute_path_of_project_directory,\n",
    "    write_json,\n",
    ")\n",
    "\n",
    "train, test, x_test, y_test, genre, meta = None, None, None, None, None, None\n",
    "\n",
    "def set_assets(\n",
    "    is_need_song_meta=False,\n",
    "):\n",
    "    import json\n",
    "    global train, test, x_test, y_test, genre, meta\n",
    "    \n",
    "    basepath = get_absolute_path_of_project_directory()\n",
    "    orig_basepath = f'{basepath}/res/'\n",
    "    data_basepath = f'{basepath}/arena_data/'\n",
    "    train = pd.read_json(f'{data_basepath}orig/train.json')\n",
    "    test = pd.read_json(f'{data_basepath}orig/val.json')\n",
    "    x_test = pd.read_json(f'{data_basepath}questions/val.json')\n",
    "    y_test = pd.read_json(f'{data_basepath}answers/val.json')\n",
    "\n",
    "    genre = pd.read_json(\n",
    "        f'{orig_basepath}genre_gn_all.json',\n",
    "        typ='dataframe',\n",
    "    ).reset_index()\n",
    "    genre.columns = ['code', 'desc']\n",
    "\n",
    "    print('shape of train', train.shape)\n",
    "    print('shape of test', test.shape)\n",
    "    print('shape of x_test', x_test.shape)\n",
    "    print('shape of y_test', y_test.shape)\n",
    "    print('shape of genre', genre.shape)\n",
    "\n",
    "    if is_need_song_meta:\n",
    "        meta = pd.read_json(f'{orig_basepath}/song_meta.json')\n",
    "        print('shape of meta', meta.shape)"
   ]
  },
  {
   "cell_type": "code",
   "execution_count": 3,
   "metadata": {
    "ExecuteTime": {
     "end_time": "2020-05-30T07:10:22.091088Z",
     "start_time": "2020-05-30T07:10:19.397960Z"
    }
   },
   "outputs": [
    {
     "name": "stdout",
     "output_type": "stream",
     "text": [
      "shape of train (92056, 6)\n",
      "shape of test (23015, 6)\n",
      "shape of x_test (23015, 6)\n",
      "shape of y_test (23015, 6)\n",
      "shape of genre (254, 2)\n"
     ]
    }
   ],
   "source": [
    "set_assets(is_need_song_meta=False)"
   ]
  },
  {
   "cell_type": "code",
   "execution_count": null,
   "metadata": {},
   "outputs": [],
   "source": []
  }
 ],
 "metadata": {
  "kernelspec": {
   "display_name": "Python 3",
   "language": "python",
   "name": "python3"
  },
  "language_info": {
   "codemirror_mode": {
    "name": "ipython",
    "version": 3
   },
   "file_extension": ".py",
   "mimetype": "text/x-python",
   "name": "python",
   "nbconvert_exporter": "python",
   "pygments_lexer": "ipython3",
   "version": "3.7.6"
  }
 },
 "nbformat": 4,
 "nbformat_minor": 2
}
