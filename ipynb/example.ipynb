{
 "cells": [
  {
   "cell_type": "code",
   "execution_count": 1,
   "metadata": {
    "ExecuteTime": {
     "end_time": "2020-05-26T11:12:05.145866Z",
     "start_time": "2020-05-26T11:12:05.131008Z"
    }
   },
   "outputs": [],
   "source": [
    "%matplotlib inline\n",
    "\n",
    "import numpy as np\n",
    "import pandas as pd\n",
    "\n",
    "import warnings\n",
    "\n",
    "warnings.filterwarnings(action='ignore')"
   ]
  },
  {
   "cell_type": "markdown",
   "metadata": {},
   "source": [
    "### project root 에서 util 가져오는 법"
   ]
  },
  {
   "cell_type": "code",
   "execution_count": 2,
   "metadata": {
    "ExecuteTime": {
     "end_time": "2020-05-26T11:12:05.451692Z",
     "start_time": "2020-05-26T11:12:05.447159Z"
    }
   },
   "outputs": [],
   "source": [
    "import pathlib\n",
    "import sys\n",
    "\n",
    "abs_path = ''\n",
    "current_path = pathlib.Path().absolute()\n",
    "\n",
    "for path_name in str(current_path).split('/'):\n",
    "    abs_path += path_name + '/'\n",
    "\n",
    "    if path_name == 'melon-playlist-continuation':\n",
    "         break\n",
    "\n",
    "sys.path.insert(0, abs_path)"
   ]
  },
  {
   "cell_type": "code",
   "execution_count": 3,
   "metadata": {
    "ExecuteTime": {
     "end_time": "2020-05-26T11:12:05.598572Z",
     "start_time": "2020-05-26T11:12:05.593362Z"
    }
   },
   "outputs": [],
   "source": [
    "from util import write_json"
   ]
  },
  {
   "cell_type": "markdown",
   "metadata": {},
   "source": [
    "### test result data 저장 or 제출용 데이터 저장"
   ]
  },
  {
   "cell_type": "code",
   "execution_count": 4,
   "metadata": {
    "ExecuteTime": {
     "end_time": "2020-05-26T11:12:06.002878Z",
     "start_time": "2020-05-26T11:12:05.999587Z"
    }
   },
   "outputs": [],
   "source": [
    "sample_result = [\n",
    "    {\n",
    "        'id': 1,\n",
    "        'songs': [123, 456],\n",
    "        'tags': ['test1', 'test2'],\n",
    "    }\n",
    "]"
   ]
  },
  {
   "cell_type": "code",
   "execution_count": 5,
   "metadata": {
    "ExecuteTime": {
     "end_time": "2020-05-26T11:12:06.411051Z",
     "start_time": "2020-05-26T11:12:06.406049Z"
    }
   },
   "outputs": [],
   "source": [
    "# local evaluate test인 경우에는 is_submit에 False로 진행\n",
    "# 이 경우는 project_dir/local_val/에 저장됨\n",
    "write_json(sample_result, fname='test_result', is_submit=False)\n",
    "\n",
    "# 제출용은 is_submit에 True로 진행\n",
    "# 이 경우는 project_dir/submit_val/에 저장됨\n",
    "write_json(sample_result, fname='test_result', is_submit=True)"
   ]
  },
  {
   "cell_type": "markdown",
   "metadata": {},
   "source": [
    "### split한 데이터 가져오기"
   ]
  },
  {
   "cell_type": "code",
   "execution_count": 23,
   "metadata": {
    "ExecuteTime": {
     "end_time": "2020-05-25T14:25:34.711027Z",
     "start_time": "2020-05-25T14:25:34.530744Z"
    },
    "code_folding": [
     2
    ]
   },
   "outputs": [],
   "source": [
    "train, test, x_test, y_test, genre, meta = None, None, None, None, None, None\n",
    "\n",
    "def set_assets(\n",
    "    is_need_song_meta=False,\n",
    "):\n",
    "    import json\n",
    "    global train, test, x_test, y_test, genre, meta\n",
    "    \n",
    "    orig_basepath = '../res/'\n",
    "    data_basepath = '../arena_data/'\n",
    "    train = pd.read_json(f'{data_basepath}orig/train.json')\n",
    "    test = pd.read_json(f'{data_basepath}orig/val.json')\n",
    "    x_test = pd.read_json(f'{data_basepath}questions/val.json')\n",
    "    y_test = pd.read_json(f'{data_basepath}answers/val.json')\n",
    "\n",
    "    genre = pd.read_json(\n",
    "        f'{orig_basepath}genre_gn_all.json',\n",
    "        typ='dataframe',\n",
    "    ).reset_index()\n",
    "    genre.columns = ['code', 'desc']\n",
    "\n",
    "    print('shape of train', train.shape)\n",
    "    print('shape of test', test.shape)\n",
    "    print('shape of x_test', x_test.shape)\n",
    "    print('shape of y_test', y_test.shape)\n",
    "    print('shape of genre', genre.shape)\n",
    "\n",
    "    if is_need_song_meta:\n",
    "        meta = pd.read_json(f'{orig_basepath}/song_meta.json')\n",
    "        print('shape of meta', meta.shape)"
   ]
  },
  {
   "cell_type": "code",
   "execution_count": 24,
   "metadata": {
    "ExecuteTime": {
     "end_time": "2020-05-25T14:25:37.743388Z",
     "start_time": "2020-05-25T14:25:35.025661Z"
    }
   },
   "outputs": [
    {
     "name": "stdout",
     "output_type": "stream",
     "text": [
      "shape of train (92056, 6)\n",
      "shape of test (23015, 6)\n",
      "shape of x_test (23015, 6)\n",
      "shape of y_test (23015, 6)\n",
      "shape of genre (254, 2)\n"
     ]
    }
   ],
   "source": [
    "# song_meta 가 크기가 커서 원하지 않는 경우엔 import를 안할 수 있다.\n",
    "set_assets(is_need_song_meta=False)"
   ]
  },
  {
   "cell_type": "code",
   "execution_count": 25,
   "metadata": {
    "ExecuteTime": {
     "end_time": "2020-05-25T14:25:37.763363Z",
     "start_time": "2020-05-25T14:25:37.746496Z"
    }
   },
   "outputs": [
    {
     "data": {
      "text/html": [
       "<div>\n",
       "<style scoped>\n",
       "    .dataframe tbody tr th:only-of-type {\n",
       "        vertical-align: middle;\n",
       "    }\n",
       "\n",
       "    .dataframe tbody tr th {\n",
       "        vertical-align: top;\n",
       "    }\n",
       "\n",
       "    .dataframe thead th {\n",
       "        text-align: right;\n",
       "    }\n",
       "</style>\n",
       "<table border=\"1\" class=\"dataframe\">\n",
       "  <thead>\n",
       "    <tr style=\"text-align: right;\">\n",
       "      <th></th>\n",
       "      <th>id</th>\n",
       "      <th>like_cnt</th>\n",
       "      <th>plylst_title</th>\n",
       "      <th>songs</th>\n",
       "      <th>tags</th>\n",
       "      <th>updt_date</th>\n",
       "    </tr>\n",
       "  </thead>\n",
       "  <tbody>\n",
       "    <tr>\n",
       "      <th>0</th>\n",
       "      <td>18488</td>\n",
       "      <td>3</td>\n",
       "      <td>요즘 많이듣는 인디 노래</td>\n",
       "      <td>[674442, 131295, 83652, 352919, 233166, 99741,...</td>\n",
       "      <td>[카페, 인디음악, 드라이브, 인디뮤직, 사랑, 이별, 인디]</td>\n",
       "      <td>2017-07-17 11:00:52.000</td>\n",
       "    </tr>\n",
       "    <tr>\n",
       "      <th>1</th>\n",
       "      <td>76254</td>\n",
       "      <td>4</td>\n",
       "      <td>살랑살랑 불어오는 바람 같은 뉴에이지</td>\n",
       "      <td>[222141, 422934, 4917, 700161, 424495, 683582,...</td>\n",
       "      <td>[살랑살랑, 뉴에이지]</td>\n",
       "      <td>2017-07-20 13:42:37.000</td>\n",
       "    </tr>\n",
       "    <tr>\n",
       "      <th>2</th>\n",
       "      <td>86227</td>\n",
       "      <td>41</td>\n",
       "      <td>비오는날 감미롭고 우울한 재즈</td>\n",
       "      <td>[333034, 638621, 483000, 570730, 442053, 17405...</td>\n",
       "      <td>[비오는날, 밤, 새벽]</td>\n",
       "      <td>2015-07-10 03:18:46.000</td>\n",
       "    </tr>\n",
       "    <tr>\n",
       "      <th>3</th>\n",
       "      <td>87450</td>\n",
       "      <td>17</td>\n",
       "      <td>걸크러쉬돋는 여자보컬 락 노래 모음</td>\n",
       "      <td>[229337, 30825, 475737, 672432, 59091, 98657, ...</td>\n",
       "      <td>[락, 락밴드, 메탈, 락음악]</td>\n",
       "      <td>2017-07-10 21:30:25.000</td>\n",
       "    </tr>\n",
       "    <tr>\n",
       "      <th>4</th>\n",
       "      <td>24649</td>\n",
       "      <td>5</td>\n",
       "      <td>퇴근 후 차분한 인디</td>\n",
       "      <td>[13930, 18100, 105626, 310720, 93295, 557891, ...</td>\n",
       "      <td>[집중, 휴식, 밤, 카페, 새벽, 차분한, 조용한, 인디]</td>\n",
       "      <td>2020-04-09 00:04:15.000</td>\n",
       "    </tr>\n",
       "  </tbody>\n",
       "</table>\n",
       "</div>"
      ],
      "text/plain": [
       "      id  like_cnt          plylst_title  \\\n",
       "0  18488         3         요즘 많이듣는 인디 노래   \n",
       "1  76254         4  살랑살랑 불어오는 바람 같은 뉴에이지   \n",
       "2  86227        41      비오는날 감미롭고 우울한 재즈   \n",
       "3  87450        17   걸크러쉬돋는 여자보컬 락 노래 모음   \n",
       "4  24649         5           퇴근 후 차분한 인디   \n",
       "\n",
       "                                               songs  \\\n",
       "0  [674442, 131295, 83652, 352919, 233166, 99741,...   \n",
       "1  [222141, 422934, 4917, 700161, 424495, 683582,...   \n",
       "2  [333034, 638621, 483000, 570730, 442053, 17405...   \n",
       "3  [229337, 30825, 475737, 672432, 59091, 98657, ...   \n",
       "4  [13930, 18100, 105626, 310720, 93295, 557891, ...   \n",
       "\n",
       "                                 tags                updt_date  \n",
       "0  [카페, 인디음악, 드라이브, 인디뮤직, 사랑, 이별, 인디]  2017-07-17 11:00:52.000  \n",
       "1                        [살랑살랑, 뉴에이지]  2017-07-20 13:42:37.000  \n",
       "2                       [비오는날, 밤, 새벽]  2015-07-10 03:18:46.000  \n",
       "3                   [락, 락밴드, 메탈, 락음악]  2017-07-10 21:30:25.000  \n",
       "4   [집중, 휴식, 밤, 카페, 새벽, 차분한, 조용한, 인디]  2020-04-09 00:04:15.000  "
      ]
     },
     "execution_count": 25,
     "metadata": {},
     "output_type": "execute_result"
    }
   ],
   "source": [
    "test.head()"
   ]
  },
  {
   "cell_type": "code",
   "execution_count": 34,
   "metadata": {
    "ExecuteTime": {
     "end_time": "2020-05-25T14:26:47.668226Z",
     "start_time": "2020-05-25T14:26:47.665468Z"
    }
   },
   "outputs": [],
   "source": [
    "test_id = 18488"
   ]
  },
  {
   "cell_type": "code",
   "execution_count": 35,
   "metadata": {
    "ExecuteTime": {
     "end_time": "2020-05-25T14:26:54.423697Z",
     "start_time": "2020-05-25T14:26:54.417273Z"
    }
   },
   "outputs": [
    {
     "data": {
      "text/plain": [
       "array([list([674442, 131295, 83652, 352919, 233166, 99741, 676361, 298030, 368044, 7070, 565913, 398467, 117367, 194427, 670669, 592826])],\n",
       "      dtype=object)"
      ]
     },
     "execution_count": 35,
     "metadata": {},
     "output_type": "execute_result"
    }
   ],
   "source": [
    "test[test.id == test_id].songs.values"
   ]
  },
  {
   "cell_type": "code",
   "execution_count": 36,
   "metadata": {
    "ExecuteTime": {
     "end_time": "2020-05-25T14:27:00.374482Z",
     "start_time": "2020-05-25T14:27:00.368136Z"
    }
   },
   "outputs": [
    {
     "data": {
      "text/plain": [
       "array([list([674442, 131295, 233166, 298030, 368044, 7070, 670669, 592826])],\n",
       "      dtype=object)"
      ]
     },
     "execution_count": 36,
     "metadata": {},
     "output_type": "execute_result"
    }
   ],
   "source": [
    "x_test[x_test.id == test_id].songs.values"
   ]
  },
  {
   "cell_type": "code",
   "execution_count": 37,
   "metadata": {
    "ExecuteTime": {
     "end_time": "2020-05-25T14:27:00.536658Z",
     "start_time": "2020-05-25T14:27:00.530054Z"
    }
   },
   "outputs": [
    {
     "data": {
      "text/plain": [
       "array([list([83652, 352919, 99741, 676361, 565913, 398467, 117367, 194427])],\n",
       "      dtype=object)"
      ]
     },
     "execution_count": 37,
     "metadata": {},
     "output_type": "execute_result"
    }
   ],
   "source": [
    "y_test[y_test.id == test_id].songs.values"
   ]
  },
  {
   "cell_type": "code",
   "execution_count": null,
   "metadata": {},
   "outputs": [],
   "source": []
  },
  {
   "cell_type": "markdown",
   "metadata": {},
   "source": [
    "### 카카오에서 제공한 데이터 set하는 method\n",
    "train을 이용하여 학습할 때는 아래처럼 가져올 필요는 없이 위에서처럼 `split_data`를 이용해서 split한 데이터를 사용하도록 하자."
   ]
  },
  {
   "cell_type": "code",
   "execution_count": 7,
   "metadata": {
    "ExecuteTime": {
     "end_time": "2020-05-25T14:11:42.872025Z",
     "start_time": "2020-05-25T14:11:42.865162Z"
    },
    "code_folding": [
     2,
     4
    ]
   },
   "outputs": [],
   "source": [
    "df_tr, df_val, df_te, df_gr, df_sm = None, None, None, None, None\n",
    "\n",
    "def set_original_assets(\n",
    "    is_need_song_meta=False,\n",
    "):\n",
    "    import json\n",
    "    global df_tr, df_val, df_te, df_gr, df_sm\n",
    "    \n",
    "    basepath = '../res/'\n",
    "    df_tr = pd.read_json(f'{basepath}train.json')\n",
    "    df_val = pd.read_json(f'{basepath}val.json')\n",
    "    df_te = pd.read_json(f'{basepath}test.json')\n",
    "    df_gr = pd.read_json(\n",
    "        f'{basepath}genre_gn_all.json',\n",
    "        typ='dataframe',\n",
    "    ).reset_index()\n",
    "    df_gr.columns = ['code', 'desc']\n",
    "\n",
    "    print('shape of df_tr', df_tr.shape)\n",
    "    print('shape of df_val', df_val.shape)\n",
    "    print('shape of df_te', df_te.shape)\n",
    "    print('shape of df_gr', df_gr.shape)\n",
    "\n",
    "    if is_need_song_meta:\n",
    "        df_sm = pd.read_json(f'{basepath}/song_meta.json')\n",
    "        print('shape of df_song_meta', df_sm.shape)"
   ]
  },
  {
   "cell_type": "code",
   "execution_count": null,
   "metadata": {},
   "outputs": [],
   "source": []
  },
  {
   "cell_type": "code",
   "execution_count": null,
   "metadata": {},
   "outputs": [],
   "source": []
  }
 ],
 "metadata": {
  "kernelspec": {
   "display_name": "Python 3",
   "language": "python",
   "name": "python3"
  },
  "language_info": {
   "codemirror_mode": {
    "name": "ipython",
    "version": 3
   },
   "file_extension": ".py",
   "mimetype": "text/x-python",
   "name": "python",
   "nbconvert_exporter": "python",
   "pygments_lexer": "ipython3",
   "version": "3.6.6"
  }
 },
 "nbformat": 4,
 "nbformat_minor": 2
}
