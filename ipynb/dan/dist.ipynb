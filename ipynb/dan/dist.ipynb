{
 "cells": [
  {
   "cell_type": "code",
   "execution_count": 1,
   "metadata": {
    "ExecuteTime": {
     "end_time": "2020-05-23T08:15:33.456932Z",
     "start_time": "2020-05-23T08:15:33.452052Z"
    }
   },
   "outputs": [],
   "source": [
    "%matplotlib inline\n",
    "\n",
    "import numpy as np\n",
    "import pandas as pd"
   ]
  },
  {
   "cell_type": "code",
   "execution_count": 2,
   "metadata": {
    "ExecuteTime": {
     "end_time": "2020-05-23T08:15:34.153060Z",
     "start_time": "2020-05-23T08:15:34.146583Z"
    },
    "code_folding": [
     2,
     4
    ]
   },
   "outputs": [],
   "source": [
    "df_tr, df_val, df_te, df_gr, df_sm = None, None, None, None, None\n",
    "\n",
    "def set_assets(\n",
    "    is_need_song_meta=False,\n",
    "):\n",
    "    import json\n",
    "    global df_tr, df_val, df_te, df_gr, df_sm\n",
    "    \n",
    "    df_tr = pd.read_json('./train.json')\n",
    "    df_val = pd.read_json('./val.json')\n",
    "    df_te = pd.read_json('./test.json')\n",
    "    df_gr = pd.read_json(\n",
    "        './genre_gn_all.json',\n",
    "        typ='dataframe'\n",
    "    ).reset_index()\n",
    "    df_gr.columns = ['code', 'desc']\n",
    "\n",
    "    print('shape of df_tr', df_tr.shape)\n",
    "    print('shape of df_val', df_val.shape)\n",
    "    print('shape of df_te', df_te.shape)\n",
    "    print('shape of df_gr', df_gr.shape)\n",
    "\n",
    "    if is_need_song_meta:\n",
    "        df_sm = pd.read_json('./song_meta.json')\n",
    "        print('shape of df_song_meta', df_sm.shape)"
   ]
  },
  {
   "cell_type": "code",
   "execution_count": 26,
   "metadata": {
    "ExecuteTime": {
     "end_time": "2020-05-23T08:30:28.706425Z",
     "start_time": "2020-05-23T08:30:28.696666Z"
    }
   },
   "outputs": [],
   "source": [
    "def save_obj_by_numpy(filepath, obj):\n",
    "    np.save(open(filepath, 'wb'), obj)\n",
    "\n",
    "def load_numpy(filepath):\n",
    "    return np.load(open(filepath, 'rb'))\n",
    "\n",
    "def explain_song_list(\n",
    "    df,\n",
    "    index=None,\n",
    "    song_ids=None,\n",
    "):\n",
    "    global df_sm, df_gr\n",
    "\n",
    "    def code2desc(genre_codes):\n",
    "        return df_gr[\n",
    "            df_gr.code.isin(genre_codes)\n",
    "        ].desc.values\n",
    "\n",
    "    if index is not None:\n",
    "        song_ids = df.iloc[index].songs\n",
    "\n",
    "    mask = df_sm.id.isin(song_ids)\n",
    "    cols = [\n",
    "        'artist_name_basket',\n",
    "        'song_gn_dtl_gnr_basket',\n",
    "        'song_gn_gnr_basket',\n",
    "        'song_name',\n",
    "    ]\n",
    "    tmp = df_sm[mask][cols]\n",
    "    song_desc = []\n",
    "    gn_counter = []\n",
    "    for artist, gn_dtl, gn, name in tmp.values:\n",
    "#         gn_total = gn_dtl + gn\n",
    "#         print(gn_total)\n",
    "        gn_dtl = code2desc(gn_dtl)\n",
    "        gn = code2desc(gn)\n",
    "        gn_counter += list(gn)\n",
    "        song_desc.append((artist, gn_dtl, gn, name))\n",
    "\n",
    "    from collections import Counter\n",
    "    gn_counter = Counter(gn_counter)\n",
    "\n",
    "    return pd.DataFrame(song_desc, columns=cols), gn_counter"
   ]
  },
  {
   "cell_type": "code",
   "execution_count": 12,
   "metadata": {
    "ExecuteTime": {
     "end_time": "2020-05-23T08:17:34.663994Z",
     "start_time": "2020-05-23T08:17:34.617704Z"
    }
   },
   "outputs": [],
   "source": [
    "songs, cnt = explain_song_list(df_tr, 2)"
   ]
  },
  {
   "cell_type": "code",
   "execution_count": null,
   "metadata": {},
   "outputs": [],
   "source": []
  },
  {
   "cell_type": "code",
   "execution_count": 3,
   "metadata": {
    "ExecuteTime": {
     "end_time": "2020-05-23T08:15:47.652702Z",
     "start_time": "2020-05-23T08:15:34.434721Z"
    }
   },
   "outputs": [
    {
     "name": "stdout",
     "output_type": "stream",
     "text": [
      "shape of df_tr (115071, 6)\n",
      "shape of df_val (23015, 6)\n",
      "shape of df_te (10740, 6)\n",
      "shape of df_gr (254, 2)\n",
      "shape of df_song_meta (707989, 9)\n"
     ]
    }
   ],
   "source": [
    "set_assets(True)"
   ]
  },
  {
   "cell_type": "code",
   "execution_count": 4,
   "metadata": {
    "ExecuteTime": {
     "end_time": "2020-05-23T08:15:48.469582Z",
     "start_time": "2020-05-23T08:15:47.655709Z"
    }
   },
   "outputs": [],
   "source": [
    "tr_lists, val_lists = df_tr.songs.values, df_val.songs.values\n",
    "set_of_song_ids, set_of_song_ids2 = set(), set()\n",
    "\n",
    "for i, _list in enumerate(tr_lists):\n",
    "    set_of_song_ids.update(_list)\n",
    "\n",
    "for i, _list in enumerate(val_lists):\n",
    "    set_of_song_ids2.update(_list)"
   ]
  },
  {
   "cell_type": "code",
   "execution_count": 5,
   "metadata": {
    "ExecuteTime": {
     "end_time": "2020-05-23T08:15:48.477382Z",
     "start_time": "2020-05-23T08:15:48.471791Z"
    }
   },
   "outputs": [
    {
     "data": {
      "text/plain": [
       "False"
      ]
     },
     "execution_count": 5,
     "metadata": {},
     "output_type": "execute_result"
    }
   ],
   "source": [
    "set_of_song_ids.issuperset(set_of_song_ids2)"
   ]
  },
  {
   "cell_type": "code",
   "execution_count": 6,
   "metadata": {
    "ExecuteTime": {
     "end_time": "2020-05-23T08:15:48.596315Z",
     "start_time": "2020-05-23T08:15:48.482064Z"
    }
   },
   "outputs": [],
   "source": [
    "set_of_all_songs = set(df_sm.id.unique())"
   ]
  },
  {
   "cell_type": "code",
   "execution_count": 7,
   "metadata": {
    "ExecuteTime": {
     "end_time": "2020-05-23T08:15:48.890054Z",
     "start_time": "2020-05-23T08:15:48.599087Z"
    }
   },
   "outputs": [
    {
     "data": {
      "text/plain": [
       "(True, True)"
      ]
     },
     "execution_count": 7,
     "metadata": {},
     "output_type": "execute_result"
    }
   ],
   "source": [
    "set_of_all_songs.issuperset(set_of_song_ids), set_of_all_songs.issuperset(set_of_song_ids2)"
   ]
  },
  {
   "cell_type": "code",
   "execution_count": 9,
   "metadata": {
    "ExecuteTime": {
     "end_time": "2020-05-23T08:15:48.989609Z",
     "start_time": "2020-05-23T08:15:48.985442Z"
    }
   },
   "outputs": [],
   "source": [
    "code2idx = {\n",
    "    code: idx\n",
    "    for idx, code in enumerate(df_gr.code)\n",
    "}\n",
    "idx2code = {\n",
    "    idx: code\n",
    "    for code, idx in code2idx.items()\n",
    "}"
   ]
  },
  {
   "cell_type": "code",
   "execution_count": null,
   "metadata": {},
   "outputs": [],
   "source": []
  },
  {
   "cell_type": "code",
   "execution_count": null,
   "metadata": {},
   "outputs": [],
   "source": []
  },
  {
   "cell_type": "code",
   "execution_count": 15,
   "metadata": {
    "ExecuteTime": {
     "end_time": "2020-05-23T08:27:49.014787Z",
     "start_time": "2020-05-23T08:18:25.851088Z"
    }
   },
   "outputs": [
    {
     "name": "stdout",
     "output_type": "stream",
     "text": [
      "0 0.0\n",
      "5753 1.0\n",
      "11506 2.0\n",
      "17259 3.0\n",
      "23012 4.0\n",
      "28765 5.0\n",
      "34518 6.0\n",
      "40271 7.0\n",
      "46024 8.0\n",
      "51777 9.0\n",
      "57530 10.0\n",
      "63283 11.0\n",
      "69036 12.0\n",
      "74789 13.0\n",
      "80542 14.0\n",
      "86295 15.0\n",
      "92048 16.0\n",
      "97801 17.0\n",
      "103554 18.0\n",
      "109307 19.0\n",
      "115060 20.0\n"
     ]
    }
   ],
   "source": [
    "num_of_songs = len(df_tr.songs)\n",
    "num_of_genre_codes = len(df_gr.code.unique())\n",
    "song_lists_emb = np.zeros(\n",
    "    (num_of_songs, num_of_genre_codes)\n",
    ")\n",
    "five_percent_index = int(num_of_songs * 0.05)\n",
    "for row_idx, songs in enumerate(df_tr.songs.values):\n",
    "    if row_idx % five_percent_index == 0:\n",
    "        print(row_idx, (row_idx / five_percent_index))\n",
    "\n",
    "    mask = df_sm.id.isin(songs)\n",
    "    tmp = df_sm[mask]\n",
    "    genres_list = (tmp.song_gn_dtl_gnr_basket + tmp.song_gn_gnr_basket)\n",
    "    for genres in genres_list:\n",
    "        for genre in genres:\n",
    "            if genre in code2idx:\n",
    "                col_idx = code2idx[genre]\n",
    "                song_lists_emb[row_idx, col_idx] += 1"
   ]
  },
  {
   "cell_type": "code",
   "execution_count": null,
   "metadata": {},
   "outputs": [],
   "source": []
  },
  {
   "cell_type": "code",
   "execution_count": 25,
   "metadata": {
    "ExecuteTime": {
     "end_time": "2020-05-23T08:29:55.635830Z",
     "start_time": "2020-05-23T08:29:55.631000Z"
    }
   },
   "outputs": [
    {
     "data": {
      "text/plain": [
       "array([[ 0.,  0.,  0., ...,  0.,  0.,  0.],\n",
       "       [11., 11.,  0., ...,  0.,  0.,  0.],\n",
       "       [ 2.,  2.,  0., ...,  0.,  0.,  0.],\n",
       "       ...,\n",
       "       [ 8.,  8.,  0., ...,  0.,  0.,  0.],\n",
       "       [ 0.,  0.,  0., ...,  0.,  0.,  0.],\n",
       "       [ 0.,  0.,  0., ...,  0.,  0.,  0.]])"
      ]
     },
     "execution_count": 25,
     "metadata": {},
     "output_type": "execute_result"
    }
   ],
   "source": [
    "song_lists_emb"
   ]
  },
  {
   "cell_type": "code",
   "execution_count": 27,
   "metadata": {
    "ExecuteTime": {
     "end_time": "2020-05-23T08:30:54.475779Z",
     "start_time": "2020-05-23T08:30:53.104279Z"
    }
   },
   "outputs": [],
   "source": [
    "save_obj_by_numpy('song_lists_emb.npy', song_lists_emb)"
   ]
  },
  {
   "cell_type": "code",
   "execution_count": null,
   "metadata": {},
   "outputs": [],
   "source": []
  },
  {
   "cell_type": "code",
   "execution_count": null,
   "metadata": {},
   "outputs": [],
   "source": []
  },
  {
   "cell_type": "code",
   "execution_count": null,
   "metadata": {},
   "outputs": [],
   "source": []
  },
  {
   "cell_type": "code",
   "execution_count": 28,
   "metadata": {
    "ExecuteTime": {
     "end_time": "2020-05-23T08:31:06.659445Z",
     "start_time": "2020-05-23T08:31:06.655929Z"
    }
   },
   "outputs": [],
   "source": [
    "from scipy.spatial.distance import pdist, cdist"
   ]
  },
  {
   "cell_type": "code",
   "execution_count": 65,
   "metadata": {
    "ExecuteTime": {
     "end_time": "2020-05-23T08:37:42.738680Z",
     "start_time": "2020-05-23T08:37:42.670760Z"
    }
   },
   "outputs": [],
   "source": [
    "dist = cdist(\n",
    "    song_lists_emb[:1], song_lists_emb[:, ],\n",
    "    metric='cosine'\n",
    ")"
   ]
  },
  {
   "cell_type": "code",
   "execution_count": 66,
   "metadata": {
    "ExecuteTime": {
     "end_time": "2020-05-23T08:37:43.823258Z",
     "start_time": "2020-05-23T08:37:43.018735Z"
    }
   },
   "outputs": [
    {
     "name": "stdout",
     "output_type": "stream",
     "text": [
      "85001 []\n",
      "97585 []\n",
      "10809 []\n",
      "2983 ['Hey Little Girl' 'Octagon']\n",
      "14233 ['Count On Me']\n",
      "71388 []\n",
      "98594 ['Run, Run, Run']\n",
      "8299 ['Count On Me']\n",
      "56458 ['Count On Me' 'No Ceiling']\n",
      "3026 []\n"
     ]
    }
   ],
   "source": [
    "songs0, cnt0 = explain_song_list(df_tr, 0)\n",
    "for list_index in np.argsort(dist)[:, 11:21][0]:\n",
    "    songs1, cnt1 = explain_song_list(df_tr, list_index)\n",
    "    intersection = np.intersect1d(\n",
    "        songs0.song_name.values, songs1.song_name.values\n",
    "    )\n",
    "    \n",
    "    print(list_index, intersection)"
   ]
  },
  {
   "cell_type": "code",
   "execution_count": null,
   "metadata": {},
   "outputs": [],
   "source": []
  },
  {
   "cell_type": "code",
   "execution_count": null,
   "metadata": {},
   "outputs": [],
   "source": []
  },
  {
   "cell_type": "code",
   "execution_count": null,
   "metadata": {},
   "outputs": [],
   "source": []
  },
  {
   "cell_type": "code",
   "execution_count": null,
   "metadata": {
    "ExecuteTime": {
     "start_time": "2020-05-23T08:03:32.760Z"
    }
   },
   "outputs": [],
   "source": [
    "dist = pdist(\n",
    "    song_lists_emb,\n",
    "    metric='cosine'\n",
    ")"
   ]
  },
  {
   "cell_type": "code",
   "execution_count": null,
   "metadata": {},
   "outputs": [],
   "source": []
  },
  {
   "cell_type": "code",
   "execution_count": null,
   "metadata": {},
   "outputs": [],
   "source": []
  },
  {
   "cell_type": "code",
   "execution_count": null,
   "metadata": {},
   "outputs": [],
   "source": []
  },
  {
   "cell_type": "code",
   "execution_count": null,
   "metadata": {},
   "outputs": [],
   "source": []
  },
  {
   "cell_type": "code",
   "execution_count": 41,
   "metadata": {
    "ExecuteTime": {
     "end_time": "2020-05-23T07:34:10.193885Z",
     "start_time": "2020-05-23T07:34:10.176740Z"
    }
   },
   "outputs": [
    {
     "data": {
      "text/html": [
       "<div>\n",
       "<style scoped>\n",
       "    .dataframe tbody tr th:only-of-type {\n",
       "        vertical-align: middle;\n",
       "    }\n",
       "\n",
       "    .dataframe tbody tr th {\n",
       "        vertical-align: top;\n",
       "    }\n",
       "\n",
       "    .dataframe thead th {\n",
       "        text-align: right;\n",
       "    }\n",
       "</style>\n",
       "<table border=\"1\" class=\"dataframe\">\n",
       "  <thead>\n",
       "    <tr style=\"text-align: right;\">\n",
       "      <th></th>\n",
       "      <th>artist_name_basket</th>\n",
       "      <th>song_gn_dtl_gnr_basket</th>\n",
       "      <th>song_gn_gnr_basket</th>\n",
       "      <th>song_name</th>\n",
       "    </tr>\n",
       "  </thead>\n",
       "  <tbody>\n",
       "    <tr>\n",
       "      <th>0</th>\n",
       "      <td>[Various Artists]</td>\n",
       "      <td>[GN0901]</td>\n",
       "      <td>[GN0900]</td>\n",
       "      <td>Feelings</td>\n",
       "    </tr>\n",
       "    <tr>\n",
       "      <th>1</th>\n",
       "      <td>[Murray Perahia]</td>\n",
       "      <td>[GN1601, GN1606]</td>\n",
       "      <td>[GN1600]</td>\n",
       "      <td>Bach : Partita No. 4 In D Major, BWV 828 - II....</td>\n",
       "    </tr>\n",
       "    <tr>\n",
       "      <th>2</th>\n",
       "      <td>[Peter Gabriel]</td>\n",
       "      <td>[GN0901]</td>\n",
       "      <td>[GN0900]</td>\n",
       "      <td>Solsbury Hill (Remastered 2002)</td>\n",
       "    </tr>\n",
       "    <tr>\n",
       "      <th>3</th>\n",
       "      <td>[Matoma]</td>\n",
       "      <td>[GN1102, GN1101]</td>\n",
       "      <td>[GN1100]</td>\n",
       "      <td>Feeling Right (Everything Is Nice) (Feat. Popc...</td>\n",
       "    </tr>\n",
       "    <tr>\n",
       "      <th>4</th>\n",
       "      <td>[Jude Law]</td>\n",
       "      <td>[GN1802, GN1801]</td>\n",
       "      <td>[GN1800]</td>\n",
       "      <td>그남자 그여자</td>\n",
       "    </tr>\n",
       "  </tbody>\n",
       "</table>\n",
       "</div>"
      ],
      "text/plain": [
       "  artist_name_basket song_gn_dtl_gnr_basket song_gn_gnr_basket  \\\n",
       "0  [Various Artists]               [GN0901]           [GN0900]   \n",
       "1   [Murray Perahia]       [GN1601, GN1606]           [GN1600]   \n",
       "2    [Peter Gabriel]               [GN0901]           [GN0900]   \n",
       "3           [Matoma]       [GN1102, GN1101]           [GN1100]   \n",
       "4         [Jude Law]       [GN1802, GN1801]           [GN1800]   \n",
       "\n",
       "                                           song_name  \n",
       "0                                           Feelings  \n",
       "1  Bach : Partita No. 4 In D Major, BWV 828 - II....  \n",
       "2                    Solsbury Hill (Remastered 2002)  \n",
       "3  Feeling Right (Everything Is Nice) (Feat. Popc...  \n",
       "4                                            그남자 그여자  "
      ]
     },
     "execution_count": 41,
     "metadata": {},
     "output_type": "execute_result"
    }
   ],
   "source": [
    "df_sm.head(5)[\n",
    "    [\n",
    "        'artist_name_basket',\n",
    "        'song_gn_dtl_gnr_basket',\n",
    "        'song_gn_gnr_basket',\n",
    "        'song_name',\n",
    "    ]\n",
    "]"
   ]
  },
  {
   "cell_type": "code",
   "execution_count": null,
   "metadata": {},
   "outputs": [],
   "source": []
  },
  {
   "cell_type": "code",
   "execution_count": 66,
   "metadata": {
    "ExecuteTime": {
     "end_time": "2020-05-23T07:42:22.407922Z",
     "start_time": "2020-05-23T07:42:22.338304Z"
    }
   },
   "outputs": [],
   "source": [
    "song_desc, cnt = explain_song_list(df_tr, 1)"
   ]
  },
  {
   "cell_type": "code",
   "execution_count": 60,
   "metadata": {
    "ExecuteTime": {
     "end_time": "2020-05-23T07:40:59.323582Z",
     "start_time": "2020-05-23T07:40:59.318457Z"
    }
   },
   "outputs": [
    {
     "data": {
      "text/plain": [
       "Counter({'발라드': 11,\n",
       "         'OST': 4,\n",
       "         '록/메탈': 11,\n",
       "         '뉴에이지': 3,\n",
       "         '재즈': 7,\n",
       "         '클래식': 4,\n",
       "         '일렉트로니카': 1,\n",
       "         '인디음악': 7,\n",
       "         '포크/블루스': 2,\n",
       "         'POP': 1})"
      ]
     },
     "execution_count": 60,
     "metadata": {},
     "output_type": "execute_result"
    }
   ],
   "source": [
    "cnt"
   ]
  },
  {
   "cell_type": "code",
   "execution_count": null,
   "metadata": {},
   "outputs": [],
   "source": []
  },
  {
   "cell_type": "code",
   "execution_count": null,
   "metadata": {},
   "outputs": [],
   "source": []
  },
  {
   "cell_type": "code",
   "execution_count": null,
   "metadata": {},
   "outputs": [],
   "source": []
  },
  {
   "cell_type": "code",
   "execution_count": null,
   "metadata": {},
   "outputs": [],
   "source": []
  },
  {
   "cell_type": "code",
   "execution_count": null,
   "metadata": {},
   "outputs": [],
   "source": []
  },
  {
   "cell_type": "code",
   "execution_count": null,
   "metadata": {},
   "outputs": [],
   "source": []
  },
  {
   "cell_type": "code",
   "execution_count": null,
   "metadata": {},
   "outputs": [],
   "source": []
  }
 ],
 "metadata": {
  "kernelspec": {
   "display_name": "Python 3",
   "language": "python",
   "name": "python3"
  },
  "language_info": {
   "codemirror_mode": {
    "name": "ipython",
    "version": 3
   },
   "file_extension": ".py",
   "mimetype": "text/x-python",
   "name": "python",
   "nbconvert_exporter": "python",
   "pygments_lexer": "ipython3",
   "version": "3.7.6"
  }
 },
 "nbformat": 4,
 "nbformat_minor": 2
}
