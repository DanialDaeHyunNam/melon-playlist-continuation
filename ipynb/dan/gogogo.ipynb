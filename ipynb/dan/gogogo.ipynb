{
 "cells": [
  {
   "cell_type": "code",
   "execution_count": 8,
   "metadata": {
    "ExecuteTime": {
     "end_time": "2020-05-30T08:20:49.566869Z",
     "start_time": "2020-05-30T08:20:49.541741Z"
    },
    "code_folding": [
     26,
     33,
     35
    ]
   },
   "outputs": [],
   "source": [
    "%matplotlib inline\n",
    "\n",
    "import numpy as np\n",
    "import pandas as pd\n",
    "import pathlib\n",
    "import sys\n",
    "import warnings\n",
    "\n",
    "warnings.filterwarnings(action='ignore')\n",
    "\n",
    "abs_path = ''\n",
    "current_path = pathlib.Path().absolute()\n",
    "\n",
    "for path_name in str(current_path).split('/'):\n",
    "    abs_path += path_name + '/'\n",
    "\n",
    "    if path_name == 'melon-playlist-continuation':\n",
    "         break\n",
    "\n",
    "# sys.path.insert(0, abs_path)\n",
    "sys.path.append(abs_path)\n",
    "sys.path.append(\n",
    "    f'/Users/misfits/Documents/workplace/melon-playlist-continuation/'\n",
    "    f'.venv/lib/python3.7/site-packages'\n",
    ")\n",
    "\n",
    "from util import (\n",
    "    get_absolute_path_of_project_directory,\n",
    "    write_json,\n",
    ")\n",
    "\n",
    "train, test, x_test, y_test, genre, meta = None, None, None, None, None, None\n",
    "\n",
    "def set_assets(\n",
    "    is_need_song_meta=False,\n",
    "):\n",
    "    import json\n",
    "    global train, test, x_test, y_test, genre, meta\n",
    "    \n",
    "    basepath = get_absolute_path_of_project_directory()\n",
    "    orig_basepath = f'{basepath}/res/'\n",
    "    data_basepath = f'{basepath}/arena_data/'\n",
    "    train = pd.read_json(f'{data_basepath}orig/train.json')\n",
    "    test = pd.read_json(f'{data_basepath}orig/val.json')\n",
    "    x_test = pd.read_json(f'{data_basepath}questions/val.json')\n",
    "    y_test = pd.read_json(f'{data_basepath}answers/val.json')\n",
    "\n",
    "    genre = pd.read_json(\n",
    "        f'{orig_basepath}genre_gn_all.json',\n",
    "        typ='dataframe',\n",
    "    ).reset_index()\n",
    "    genre.columns = ['code', 'desc']\n",
    "\n",
    "    print('shape of train', train.shape)\n",
    "    print('shape of test', test.shape)\n",
    "    print('shape of x_test', x_test.shape)\n",
    "    print('shape of y_test', y_test.shape)\n",
    "    print('shape of genre', genre.shape)\n",
    "\n",
    "    if is_need_song_meta:\n",
    "        meta = pd.read_json(f'{orig_basepath}/song_meta.json')\n",
    "        print('shape of meta', meta.shape)"
   ]
  },
  {
   "cell_type": "code",
   "execution_count": 2,
   "metadata": {
    "ExecuteTime": {
     "end_time": "2020-05-30T08:19:09.235914Z",
     "start_time": "2020-05-30T08:19:09.231020Z"
    }
   },
   "outputs": [],
   "source": [
    "from helper import *"
   ]
  },
  {
   "cell_type": "code",
   "execution_count": 32,
   "metadata": {
    "ExecuteTime": {
     "end_time": "2020-05-31T10:50:32.002753Z",
     "start_time": "2020-05-31T10:50:15.586411Z"
    }
   },
   "outputs": [
    {
     "name": "stdout",
     "output_type": "stream",
     "text": [
      "shape of train (92056, 6)\n",
      "shape of test (23015, 6)\n",
      "shape of x_test (23015, 6)\n",
      "shape of y_test (23015, 6)\n",
      "shape of genre (254, 2)\n",
      "shape of meta (707989, 9)\n"
     ]
    }
   ],
   "source": [
    "set_assets(is_need_song_meta=True)"
   ]
  },
  {
   "cell_type": "code",
   "execution_count": 4,
   "metadata": {
    "ExecuteTime": {
     "end_time": "2020-05-30T08:19:12.879403Z",
     "start_time": "2020-05-30T08:19:12.716602Z"
    }
   },
   "outputs": [],
   "source": [
    "song_emb = load_numpy('./song_lists_emb.npy')"
   ]
  },
  {
   "cell_type": "code",
   "execution_count": 5,
   "metadata": {
    "ExecuteTime": {
     "end_time": "2020-05-30T08:19:12.887908Z",
     "start_time": "2020-05-30T08:19:12.881750Z"
    }
   },
   "outputs": [
    {
     "data": {
      "text/plain": [
       "(115071, 254)"
      ]
     },
     "execution_count": 5,
     "metadata": {},
     "output_type": "execute_result"
    }
   ],
   "source": [
    "song_emb.shape"
   ]
  },
  {
   "cell_type": "code",
   "execution_count": 21,
   "metadata": {
    "ExecuteTime": {
     "end_time": "2020-05-31T10:46:00.098192Z",
     "start_time": "2020-05-31T10:46:00.093575Z"
    }
   },
   "outputs": [],
   "source": [
    "from gensim.models.word2vec import Word2Vec"
   ]
  },
  {
   "cell_type": "code",
   "execution_count": 37,
   "metadata": {
    "ExecuteTime": {
     "end_time": "2020-05-31T10:57:21.326734Z",
     "start_time": "2020-05-31T10:57:21.320116Z"
    }
   },
   "outputs": [],
   "source": [
    "def code2desc(df_gr, genre_codes):\n",
    "    return df_gr[\n",
    "        df_gr.code.isin(genre_codes)\n",
    "    ].desc.values\n",
    "\n",
    "def get_song_meta_by_ids(\n",
    "    ids,\n",
    "    df_gr,\n",
    "    df_meta,\n",
    "):\n",
    "    if type(ids) == int:\n",
    "        ids = [ids]\n",
    "\n",
    "    cols = [\n",
    "        'album_name',\n",
    "        'artist_name_basket',\n",
    "        'song_gn_dtl_gnr_basket',\n",
    "        'song_gn_gnr_basket',\n",
    "        'song_name',\n",
    "    ]\n",
    "    df_tmp = df_meta[df_meta.id.isin(ids)][cols]\n",
    "    song_desc = []\n",
    "    for album_name, artist, gn_dtl, gn, name in df_tmp.values:\n",
    "        gn_dtl = code2desc(df_gr, gn_dtl)\n",
    "        gn = code2desc(df_gr, gn)\n",
    "        song_desc.append((album_name, artist, gn_dtl, gn, name))\n",
    "\n",
    "    return pd.DataFrame(song_desc, columns=cols)"
   ]
  },
  {
   "cell_type": "code",
   "execution_count": 38,
   "metadata": {
    "ExecuteTime": {
     "end_time": "2020-05-31T10:57:33.325357Z",
     "start_time": "2020-05-31T10:57:33.303993Z"
    }
   },
   "outputs": [
    {
     "data": {
      "text/html": [
       "<div>\n",
       "<style scoped>\n",
       "    .dataframe tbody tr th:only-of-type {\n",
       "        vertical-align: middle;\n",
       "    }\n",
       "\n",
       "    .dataframe tbody tr th {\n",
       "        vertical-align: top;\n",
       "    }\n",
       "\n",
       "    .dataframe thead th {\n",
       "        text-align: right;\n",
       "    }\n",
       "</style>\n",
       "<table border=\"1\" class=\"dataframe\">\n",
       "  <thead>\n",
       "    <tr style=\"text-align: right;\">\n",
       "      <th></th>\n",
       "      <th>album_name</th>\n",
       "      <th>artist_name_basket</th>\n",
       "      <th>song_gn_dtl_gnr_basket</th>\n",
       "      <th>song_gn_gnr_basket</th>\n",
       "      <th>song_name</th>\n",
       "    </tr>\n",
       "  </thead>\n",
       "  <tbody>\n",
       "    <tr>\n",
       "      <th>0</th>\n",
       "      <td>불후의 명곡 - 7080 추억의 얄개시대 팝송베스트</td>\n",
       "      <td>[Various Artists]</td>\n",
       "      <td>[세부장르전체]</td>\n",
       "      <td>[POP]</td>\n",
       "      <td>Feelings</td>\n",
       "    </tr>\n",
       "  </tbody>\n",
       "</table>\n",
       "</div>"
      ],
      "text/plain": [
       "                     album_name artist_name_basket song_gn_dtl_gnr_basket  \\\n",
       "0  불후의 명곡 - 7080 추억의 얄개시대 팝송베스트  [Various Artists]               [세부장르전체]   \n",
       "\n",
       "  song_gn_gnr_basket song_name  \n",
       "0              [POP]  Feelings  "
      ]
     },
     "execution_count": 38,
     "metadata": {},
     "output_type": "execute_result"
    }
   ],
   "source": [
    "get_song_meta_by_ids(0, genre, meta)"
   ]
  },
  {
   "cell_type": "code",
   "execution_count": 92,
   "metadata": {
    "ExecuteTime": {
     "end_time": "2020-05-31T11:31:31.081318Z",
     "start_time": "2020-05-31T11:31:31.049924Z"
    }
   },
   "outputs": [],
   "source": [
    "real_train = pd.concat([train, test])"
   ]
  },
  {
   "cell_type": "code",
   "execution_count": 93,
   "metadata": {
    "ExecuteTime": {
     "end_time": "2020-05-31T11:31:38.640135Z",
     "start_time": "2020-05-31T11:31:36.929607Z"
    }
   },
   "outputs": [],
   "source": [
    "real_train['str_songs'] = real_train.songs.apply(\n",
    "    lambda x: [str(song_id) for song_id in x]\n",
    ")"
   ]
  },
  {
   "cell_type": "code",
   "execution_count": 94,
   "metadata": {
    "ExecuteTime": {
     "end_time": "2020-05-31T11:33:44.806545Z",
     "start_time": "2020-05-31T11:31:39.633485Z"
    }
   },
   "outputs": [],
   "source": [
    "w2v = Word2Vec(\n",
    "    sentences=real_train.str_songs.values,\n",
    "    min_count=1,\n",
    "    size=256,\n",
    "    window=10,\n",
    "    negative=20,\n",
    ")"
   ]
  },
  {
   "cell_type": "code",
   "execution_count": 95,
   "metadata": {
    "ExecuteTime": {
     "end_time": "2020-05-31T11:33:45.428597Z",
     "start_time": "2020-05-31T11:33:44.809732Z"
    }
   },
   "outputs": [],
   "source": [
    "w2v.init_sims(replace=True)"
   ]
  },
  {
   "cell_type": "code",
   "execution_count": 96,
   "metadata": {
    "ExecuteTime": {
     "end_time": "2020-05-31T11:33:45.437534Z",
     "start_time": "2020-05-31T11:33:45.431040Z"
    }
   },
   "outputs": [],
   "source": [
    "def test_word2vec():\n",
    "    global w2v, genre, meta\n",
    "\n",
    "    num_of_songs = len(w2v.wv.index2word)\n",
    "    index = np.random.choice(num_of_songs)\n",
    "    target_id = w2v.wv.index2word[index]\n",
    "    print('num_of_vectorized_songs :', num_of_songs)\n",
    "    print('target_song_id :', target_id)\n",
    "    song_ids = [target_id]\n",
    "    similarities = [0.0]\n",
    "    sim_ids = w2v.wv.similar_by_word(target_id)\n",
    "    for sim_id, similarity in sim_ids:\n",
    "        song_ids.append(sim_id)\n",
    "        similarities.append(similarity)\n",
    "    \n",
    "    df = get_song_meta_by_ids(\n",
    "        song_ids,\n",
    "        genre,\n",
    "        meta,\n",
    "    )\n",
    "    df['sim'] = similarities\n",
    "    return df"
   ]
  },
  {
   "cell_type": "code",
   "execution_count": 97,
   "metadata": {
    "ExecuteTime": {
     "end_time": "2020-05-31T11:33:45.533616Z",
     "start_time": "2020-05-31T11:33:45.441116Z"
    }
   },
   "outputs": [
    {
     "name": "stdout",
     "output_type": "stream",
     "text": [
      "num_of_vectorized_songs : 615142\n",
      "target_song_id : 521951\n"
     ]
    },
    {
     "data": {
      "text/html": [
       "<div>\n",
       "<style scoped>\n",
       "    .dataframe tbody tr th:only-of-type {\n",
       "        vertical-align: middle;\n",
       "    }\n",
       "\n",
       "    .dataframe tbody tr th {\n",
       "        vertical-align: top;\n",
       "    }\n",
       "\n",
       "    .dataframe thead th {\n",
       "        text-align: right;\n",
       "    }\n",
       "</style>\n",
       "<table border=\"1\" class=\"dataframe\">\n",
       "  <thead>\n",
       "    <tr style=\"text-align: right;\">\n",
       "      <th></th>\n",
       "      <th>album_name</th>\n",
       "      <th>artist_name_basket</th>\n",
       "      <th>song_gn_dtl_gnr_basket</th>\n",
       "      <th>song_gn_gnr_basket</th>\n",
       "      <th>song_name</th>\n",
       "      <th>sim</th>\n",
       "    </tr>\n",
       "  </thead>\n",
       "  <tbody>\n",
       "    <tr>\n",
       "      <th>0</th>\n",
       "      <td>Money Round Here (Feat. T-Pain)</td>\n",
       "      <td>[C-Ride]</td>\n",
       "      <td>[세부장르전체]</td>\n",
       "      <td>[랩/힙합]</td>\n",
       "      <td>Money Round Here (Feat. T-Pain)</td>\n",
       "      <td>0.000000</td>\n",
       "    </tr>\n",
       "    <tr>\n",
       "      <th>1</th>\n",
       "      <td>About You (Streaming Ver.)</td>\n",
       "      <td>[Papa Zeus]</td>\n",
       "      <td>[하우스, 세부장르전체, 하우스, 클럽]</td>\n",
       "      <td>[일렉트로니카, EDM]</td>\n",
       "      <td>About You</td>\n",
       "      <td>0.999892</td>\n",
       "    </tr>\n",
       "    <tr>\n",
       "      <th>2</th>\n",
       "      <td>All Mirrors</td>\n",
       "      <td>[Angel Olsen]</td>\n",
       "      <td>[세부장르전체, 얼터너티브팝, '10-]</td>\n",
       "      <td>[POP]</td>\n",
       "      <td>Chance</td>\n",
       "      <td>0.999886</td>\n",
       "    </tr>\n",
       "    <tr>\n",
       "      <th>3</th>\n",
       "      <td>Let Me Show You (Feat. Juelz Santana)</td>\n",
       "      <td>[Boxie]</td>\n",
       "      <td>[세부장르전체]</td>\n",
       "      <td>[랩/힙합]</td>\n",
       "      <td>Let Me Show You (Feat. Juelz Santana)</td>\n",
       "      <td>0.999875</td>\n",
       "    </tr>\n",
       "    <tr>\n",
       "      <th>4</th>\n",
       "      <td>Les Stars Du Classique : Sir Simon Rattle</td>\n",
       "      <td>[Simon Rattle, Berliner Philharmoniker]</td>\n",
       "      <td>[세부장르전체, 관현악, 협주곡, 교향/관현악]</td>\n",
       "      <td>[클래식]</td>\n",
       "      <td>Holst : The Planets Op.32 - IV. Jupiter. The B...</td>\n",
       "      <td>0.999871</td>\n",
       "    </tr>\n",
       "    <tr>\n",
       "      <th>5</th>\n",
       "      <td>겨울과 어울리는 따뜻한 클래식 피아노 명곡 모음</td>\n",
       "      <td>[편안한 클래식]</td>\n",
       "      <td>[세부장르전체, 독주곡]</td>\n",
       "      <td>[클래식]</td>\n",
       "      <td>Grieg : Lyric Pieces Book II. Op.38 - I. Berce...</td>\n",
       "      <td>0.999870</td>\n",
       "    </tr>\n",
       "    <tr>\n",
       "      <th>6</th>\n",
       "      <td>컴 로드 지저스 (Come Lord Jesus)</td>\n",
       "      <td>[테렌스]</td>\n",
       "      <td>[세부장르전체, 국내CCM]</td>\n",
       "      <td>[CCM]</td>\n",
       "      <td>컴 로드 지저스 (Come Lord Jesus)</td>\n",
       "      <td>0.999868</td>\n",
       "    </tr>\n",
       "    <tr>\n",
       "      <th>7</th>\n",
       "      <td>사람가</td>\n",
       "      <td>[조선블루스]</td>\n",
       "      <td>[세부장르전체, 크로스오버]</td>\n",
       "      <td>[국악]</td>\n",
       "      <td>사람가</td>\n",
       "      <td>0.999867</td>\n",
       "    </tr>\n",
       "    <tr>\n",
       "      <th>8</th>\n",
       "      <td>엄마들이 뽑은 우리아기 자장가</td>\n",
       "      <td>[Various Artists]</td>\n",
       "      <td>[어린이클래식]</td>\n",
       "      <td>[어린이/태교]</td>\n",
       "      <td>Schumann : Kinderszenen Op.15 - VII. Traumerei...</td>\n",
       "      <td>0.999867</td>\n",
       "    </tr>\n",
       "    <tr>\n",
       "      <th>9</th>\n",
       "      <td>고요한 산사에서 듣는 자연의 소리</td>\n",
       "      <td>[자연명상수련]</td>\n",
       "      <td>[세부장르전체, ASMR/자연, 힐링/명상/요가]</td>\n",
       "      <td>[뮤직테라피]</td>\n",
       "      <td>달빛이 비치는 고요한 산사의 밤소리</td>\n",
       "      <td>0.999865</td>\n",
       "    </tr>\n",
       "    <tr>\n",
       "      <th>10</th>\n",
       "      <td>Hell yeah</td>\n",
       "      <td>[DJ Rapture &amp; Jonn Hart]</td>\n",
       "      <td>[세부장르전체]</td>\n",
       "      <td>[클래식]</td>\n",
       "      <td>Hell yeah (Clean) (Feat. Milla)</td>\n",
       "      <td>0.999863</td>\n",
       "    </tr>\n",
       "  </tbody>\n",
       "</table>\n",
       "</div>"
      ],
      "text/plain": [
       "                                   album_name  \\\n",
       "0             Money Round Here (Feat. T-Pain)   \n",
       "1                  About You (Streaming Ver.)   \n",
       "2                                 All Mirrors   \n",
       "3       Let Me Show You (Feat. Juelz Santana)   \n",
       "4   Les Stars Du Classique : Sir Simon Rattle   \n",
       "5                  겨울과 어울리는 따뜻한 클래식 피아노 명곡 모음   \n",
       "6                  컴 로드 지저스 (Come Lord Jesus)   \n",
       "7                                         사람가   \n",
       "8                            엄마들이 뽑은 우리아기 자장가   \n",
       "9                          고요한 산사에서 듣는 자연의 소리   \n",
       "10                                  Hell yeah   \n",
       "\n",
       "                         artist_name_basket       song_gn_dtl_gnr_basket  \\\n",
       "0                                  [C-Ride]                     [세부장르전체]   \n",
       "1                               [Papa Zeus]       [하우스, 세부장르전체, 하우스, 클럽]   \n",
       "2                             [Angel Olsen]       [세부장르전체, 얼터너티브팝, '10-]   \n",
       "3                                   [Boxie]                     [세부장르전체]   \n",
       "4   [Simon Rattle, Berliner Philharmoniker]   [세부장르전체, 관현악, 협주곡, 교향/관현악]   \n",
       "5                                 [편안한 클래식]                [세부장르전체, 독주곡]   \n",
       "6                                     [테렌스]              [세부장르전체, 국내CCM]   \n",
       "7                                   [조선블루스]              [세부장르전체, 크로스오버]   \n",
       "8                         [Various Artists]                     [어린이클래식]   \n",
       "9                                  [자연명상수련]  [세부장르전체, ASMR/자연, 힐링/명상/요가]   \n",
       "10                 [DJ Rapture & Jonn Hart]                     [세부장르전체]   \n",
       "\n",
       "   song_gn_gnr_basket                                          song_name  \\\n",
       "0              [랩/힙합]                    Money Round Here (Feat. T-Pain)   \n",
       "1       [일렉트로니카, EDM]                                          About You   \n",
       "2               [POP]                                             Chance   \n",
       "3              [랩/힙합]              Let Me Show You (Feat. Juelz Santana)   \n",
       "4               [클래식]  Holst : The Planets Op.32 - IV. Jupiter. The B...   \n",
       "5               [클래식]  Grieg : Lyric Pieces Book II. Op.38 - I. Berce...   \n",
       "6               [CCM]                         컴 로드 지저스 (Come Lord Jesus)   \n",
       "7                [국악]                                                사람가   \n",
       "8            [어린이/태교]  Schumann : Kinderszenen Op.15 - VII. Traumerei...   \n",
       "9             [뮤직테라피]                                달빛이 비치는 고요한 산사의 밤소리   \n",
       "10              [클래식]                    Hell yeah (Clean) (Feat. Milla)   \n",
       "\n",
       "         sim  \n",
       "0   0.000000  \n",
       "1   0.999892  \n",
       "2   0.999886  \n",
       "3   0.999875  \n",
       "4   0.999871  \n",
       "5   0.999870  \n",
       "6   0.999868  \n",
       "7   0.999867  \n",
       "8   0.999867  \n",
       "9   0.999865  \n",
       "10  0.999863  "
      ]
     },
     "execution_count": 97,
     "metadata": {},
     "output_type": "execute_result"
    }
   ],
   "source": [
    "test_word2vec()"
   ]
  },
  {
   "cell_type": "code",
   "execution_count": 98,
   "metadata": {
    "ExecuteTime": {
     "end_time": "2020-05-31T11:33:45.893915Z",
     "start_time": "2020-05-31T11:33:45.537322Z"
    }
   },
   "outputs": [],
   "source": [
    "sid2index = {\n",
    "    int(sid): index\n",
    "    for index, sid in enumerate(w2v.wv.index2word)\n",
    "}"
   ]
  },
  {
   "cell_type": "code",
   "execution_count": 107,
   "metadata": {
    "ExecuteTime": {
     "end_time": "2020-05-31T12:08:26.000014Z",
     "start_time": "2020-05-31T12:08:25.986179Z"
    }
   },
   "outputs": [
    {
     "data": {
      "text/html": [
       "<div>\n",
       "<style scoped>\n",
       "    .dataframe tbody tr th:only-of-type {\n",
       "        vertical-align: middle;\n",
       "    }\n",
       "\n",
       "    .dataframe tbody tr th {\n",
       "        vertical-align: top;\n",
       "    }\n",
       "\n",
       "    .dataframe thead th {\n",
       "        text-align: right;\n",
       "    }\n",
       "</style>\n",
       "<table border=\"1\" class=\"dataframe\">\n",
       "  <thead>\n",
       "    <tr style=\"text-align: right;\">\n",
       "      <th></th>\n",
       "      <th>id</th>\n",
       "      <th>like_cnt</th>\n",
       "      <th>plylst_title</th>\n",
       "      <th>songs</th>\n",
       "      <th>tags</th>\n",
       "      <th>updt_date</th>\n",
       "    </tr>\n",
       "  </thead>\n",
       "  <tbody>\n",
       "    <tr>\n",
       "      <th>0</th>\n",
       "      <td>83381</td>\n",
       "      <td>8</td>\n",
       "      <td>가을에 듣고 싶은 7080 추억의 가을이야기</td>\n",
       "      <td>[479540, 175783, 674453, 689334, 67552, 428915...</td>\n",
       "      <td>[]</td>\n",
       "      <td>2019-09-23 14:03:18.000</td>\n",
       "    </tr>\n",
       "    <tr>\n",
       "      <th>1</th>\n",
       "      <td>119556</td>\n",
       "      <td>10</td>\n",
       "      <td>나의 사랑, 나의 동경, 나의 별</td>\n",
       "      <td>[616210, 197074, 699391, 604870, 446812, 53409...</td>\n",
       "      <td>[팬심, 동경]</td>\n",
       "      <td>2018-05-25 14:47:38.000</td>\n",
       "    </tr>\n",
       "    <tr>\n",
       "      <th>2</th>\n",
       "      <td>142795</td>\n",
       "      <td>14</td>\n",
       "      <td>◑흑인●힙합&amp;알엔비◐</td>\n",
       "      <td>[]</td>\n",
       "      <td>[힙합]</td>\n",
       "      <td>2007-10-22 19:57:58.000</td>\n",
       "    </tr>\n",
       "    <tr>\n",
       "      <th>3</th>\n",
       "      <td>148304</td>\n",
       "      <td>7</td>\n",
       "      <td>과일처럼 상큼하고 청량한 매력의 노래들</td>\n",
       "      <td>[584460, 704838, 554637, 145650, 496343, 34560...</td>\n",
       "      <td>[여름, 과즙, 무더위, 더위, 더운여름]</td>\n",
       "      <td>2019-08-06 12:03:36.000</td>\n",
       "    </tr>\n",
       "    <tr>\n",
       "      <th>4</th>\n",
       "      <td>69227</td>\n",
       "      <td>14</td>\n",
       "      <td>비오는날 이불속에서 듣기좋은 말랑말랑한 국내 : RnB #2</td>\n",
       "      <td>[317372, 670645, 385955, 247872, 418568, 72961...</td>\n",
       "      <td>[감성, 밤, 느낌적인, 방울방울]</td>\n",
       "      <td>2018-06-26 03:51:38.000</td>\n",
       "    </tr>\n",
       "  </tbody>\n",
       "</table>\n",
       "</div>"
      ],
      "text/plain": [
       "       id  like_cnt                       plylst_title  \\\n",
       "0   83381         8           가을에 듣고 싶은 7080 추억의 가을이야기   \n",
       "1  119556        10                 나의 사랑, 나의 동경, 나의 별   \n",
       "2  142795        14                        ◑흑인●힙합&알엔비◐   \n",
       "3  148304         7              과일처럼 상큼하고 청량한 매력의 노래들   \n",
       "4   69227        14  비오는날 이불속에서 듣기좋은 말랑말랑한 국내 : RnB #2   \n",
       "\n",
       "                                               songs                     tags  \\\n",
       "0  [479540, 175783, 674453, 689334, 67552, 428915...                       []   \n",
       "1  [616210, 197074, 699391, 604870, 446812, 53409...                 [팬심, 동경]   \n",
       "2                                                 []                     [힙합]   \n",
       "3  [584460, 704838, 554637, 145650, 496343, 34560...  [여름, 과즙, 무더위, 더위, 더운여름]   \n",
       "4  [317372, 670645, 385955, 247872, 418568, 72961...      [감성, 밤, 느낌적인, 방울방울]   \n",
       "\n",
       "                 updt_date  \n",
       "0  2019-09-23 14:03:18.000  \n",
       "1  2018-05-25 14:47:38.000  \n",
       "2  2007-10-22 19:57:58.000  \n",
       "3  2019-08-06 12:03:36.000  \n",
       "4  2018-06-26 03:51:38.000  "
      ]
     },
     "execution_count": 107,
     "metadata": {},
     "output_type": "execute_result"
    }
   ],
   "source": [
    "x_test.head()"
   ]
  },
  {
   "cell_type": "code",
   "execution_count": null,
   "metadata": {},
   "outputs": [],
   "source": []
  },
  {
   "cell_type": "code",
   "execution_count": 115,
   "metadata": {
    "ExecuteTime": {
     "end_time": "2020-05-31T12:19:06.778614Z",
     "start_time": "2020-05-31T12:19:06.775784Z"
    }
   },
   "outputs": [],
   "source": [
    "from arena_util import most_popular"
   ]
  },
  {
   "cell_type": "code",
   "execution_count": 120,
   "metadata": {
    "ExecuteTime": {
     "end_time": "2020-05-31T12:20:53.818859Z",
     "start_time": "2020-05-31T12:20:53.815735Z"
    }
   },
   "outputs": [],
   "source": [
    "from io import StringIO"
   ]
  },
  {
   "cell_type": "code",
   "execution_count": null,
   "metadata": {},
   "outputs": [],
   "source": []
  },
  {
   "cell_type": "code",
   "execution_count": 118,
   "metadata": {
    "ExecuteTime": {
     "end_time": "2020-05-31T12:20:06.006629Z",
     "start_time": "2020-05-31T12:20:05.993307Z"
    }
   },
   "outputs": [
    {
     "ename": "TypeError",
     "evalue": "string indices must be integers",
     "output_type": "error",
     "traceback": [
      "\u001b[0;31m---------------------------------------------------------------------------\u001b[0m",
      "\u001b[0;31mTypeError\u001b[0m                                 Traceback (most recent call last)",
      "\u001b[0;32m<ipython-input-118-b2fcc2b3ce29>\u001b[0m in \u001b[0;36m<module>\u001b[0;34m\u001b[0m\n\u001b[1;32m      1\u001b[0m song_mp_counter, song_mp = most_popular(\n\u001b[0;32m----> 2\u001b[0;31m     \u001b[0mreal_train\u001b[0m\u001b[0;34m,\u001b[0m \u001b[0;34m'songs'\u001b[0m\u001b[0;34m,\u001b[0m \u001b[0;36m100\u001b[0m\u001b[0;34m\u001b[0m\u001b[0;34m\u001b[0m\u001b[0m\n\u001b[0m\u001b[1;32m      3\u001b[0m )\n",
      "\u001b[0;32m~/Documents/workplace/melon-playlist-continuation/arena_util.py\u001b[0m in \u001b[0;36mmost_popular\u001b[0;34m(playlists, col, topk_count)\u001b[0m\n\u001b[1;32m     42\u001b[0m \u001b[0;34m\u001b[0m\u001b[0m\n\u001b[1;32m     43\u001b[0m     \u001b[0;32mfor\u001b[0m \u001b[0mdoc\u001b[0m \u001b[0;32min\u001b[0m \u001b[0mplaylists\u001b[0m\u001b[0;34m:\u001b[0m\u001b[0;34m\u001b[0m\u001b[0;34m\u001b[0m\u001b[0m\n\u001b[0;32m---> 44\u001b[0;31m         \u001b[0mc\u001b[0m\u001b[0;34m.\u001b[0m\u001b[0mupdate\u001b[0m\u001b[0;34m(\u001b[0m\u001b[0mdoc\u001b[0m\u001b[0;34m[\u001b[0m\u001b[0mcol\u001b[0m\u001b[0;34m]\u001b[0m\u001b[0;34m)\u001b[0m\u001b[0;34m\u001b[0m\u001b[0;34m\u001b[0m\u001b[0m\n\u001b[0m\u001b[1;32m     45\u001b[0m \u001b[0;34m\u001b[0m\u001b[0m\n\u001b[1;32m     46\u001b[0m     \u001b[0mtopk\u001b[0m \u001b[0;34m=\u001b[0m \u001b[0mc\u001b[0m\u001b[0;34m.\u001b[0m\u001b[0mmost_common\u001b[0m\u001b[0;34m(\u001b[0m\u001b[0mtopk_count\u001b[0m\u001b[0;34m)\u001b[0m\u001b[0;34m\u001b[0m\u001b[0;34m\u001b[0m\u001b[0m\n",
      "\u001b[0;31mTypeError\u001b[0m: string indices must be integers"
     ]
    }
   ],
   "source": [
    "song_mp_counter, song_mp = most_popular(\n",
    "    real_train, 'songs', 100\n",
    ")"
   ]
  },
  {
   "cell_type": "code",
   "execution_count": null,
   "metadata": {},
   "outputs": [],
   "source": []
  },
  {
   "cell_type": "code",
   "execution_count": null,
   "metadata": {},
   "outputs": [],
   "source": []
  },
  {
   "cell_type": "code",
   "execution_count": null,
   "metadata": {},
   "outputs": [],
   "source": []
  },
  {
   "cell_type": "code",
   "execution_count": 113,
   "metadata": {
    "ExecuteTime": {
     "end_time": "2020-05-31T12:12:55.976276Z",
     "start_time": "2020-05-31T12:11:57.812519Z"
    }
   },
   "outputs": [
    {
     "name": "stderr",
     "output_type": "stream",
     "text": [
      "  0%|          | 81/23015 [00:58<4:34:18,  1.39it/s] \n"
     ]
    },
    {
     "ename": "KeyboardInterrupt",
     "evalue": "",
     "output_type": "error",
     "traceback": [
      "\u001b[0;31m---------------------------------------------------------------------------\u001b[0m",
      "\u001b[0;31mKeyboardInterrupt\u001b[0m                         Traceback (most recent call last)",
      "\u001b[0;32m<ipython-input-113-d485f751e5cf>\u001b[0m in \u001b[0;36m<module>\u001b[0;34m\u001b[0m\n\u001b[1;32m     12\u001b[0m             w2v.wv.similar_by_word(\n\u001b[1;32m     13\u001b[0m                 \u001b[0mtarget_id\u001b[0m\u001b[0;34m,\u001b[0m\u001b[0;34m\u001b[0m\u001b[0;34m\u001b[0m\u001b[0m\n\u001b[0;32m---> 14\u001b[0;31m                 \u001b[0mtopn\u001b[0m\u001b[0;34m=\u001b[0m\u001b[0;36m100\u001b[0m\u001b[0;34m,\u001b[0m\u001b[0;34m\u001b[0m\u001b[0;34m\u001b[0m\u001b[0m\n\u001b[0m\u001b[1;32m     15\u001b[0m             )\n\u001b[1;32m     16\u001b[0m         )\n",
      "\u001b[0;32m~/Documents/workplace/melon-playlist-continuation/.venv/lib/python3.7/site-packages/gensim/models/keyedvectors.py\u001b[0m in \u001b[0;36msimilar_by_word\u001b[0;34m(self, word, topn, restrict_vocab)\u001b[0m\n\u001b[1;32m    594\u001b[0m \u001b[0;34m\u001b[0m\u001b[0m\n\u001b[1;32m    595\u001b[0m         \"\"\"\n\u001b[0;32m--> 596\u001b[0;31m         \u001b[0;32mreturn\u001b[0m \u001b[0mself\u001b[0m\u001b[0;34m.\u001b[0m\u001b[0mmost_similar\u001b[0m\u001b[0;34m(\u001b[0m\u001b[0mpositive\u001b[0m\u001b[0;34m=\u001b[0m\u001b[0;34m[\u001b[0m\u001b[0mword\u001b[0m\u001b[0;34m]\u001b[0m\u001b[0;34m,\u001b[0m \u001b[0mtopn\u001b[0m\u001b[0;34m=\u001b[0m\u001b[0mtopn\u001b[0m\u001b[0;34m,\u001b[0m \u001b[0mrestrict_vocab\u001b[0m\u001b[0;34m=\u001b[0m\u001b[0mrestrict_vocab\u001b[0m\u001b[0;34m)\u001b[0m\u001b[0;34m\u001b[0m\u001b[0;34m\u001b[0m\u001b[0m\n\u001b[0m\u001b[1;32m    597\u001b[0m \u001b[0;34m\u001b[0m\u001b[0m\n\u001b[1;32m    598\u001b[0m     \u001b[0;32mdef\u001b[0m \u001b[0msimilar_by_vector\u001b[0m\u001b[0;34m(\u001b[0m\u001b[0mself\u001b[0m\u001b[0;34m,\u001b[0m \u001b[0mvector\u001b[0m\u001b[0;34m,\u001b[0m \u001b[0mtopn\u001b[0m\u001b[0;34m=\u001b[0m\u001b[0;36m10\u001b[0m\u001b[0;34m,\u001b[0m \u001b[0mrestrict_vocab\u001b[0m\u001b[0;34m=\u001b[0m\u001b[0;32mNone\u001b[0m\u001b[0;34m)\u001b[0m\u001b[0;34m:\u001b[0m\u001b[0;34m\u001b[0m\u001b[0;34m\u001b[0m\u001b[0m\n",
      "\u001b[0;32m~/Documents/workplace/melon-playlist-continuation/.venv/lib/python3.7/site-packages/gensim/models/keyedvectors.py\u001b[0m in \u001b[0;36mmost_similar\u001b[0;34m(self, positive, negative, topn, restrict_vocab, indexer)\u001b[0m\n\u001b[1;32m    562\u001b[0m \u001b[0;34m\u001b[0m\u001b[0m\n\u001b[1;32m    563\u001b[0m         \u001b[0mlimited\u001b[0m \u001b[0;34m=\u001b[0m \u001b[0mself\u001b[0m\u001b[0;34m.\u001b[0m\u001b[0mvectors_norm\u001b[0m \u001b[0;32mif\u001b[0m \u001b[0mrestrict_vocab\u001b[0m \u001b[0;32mis\u001b[0m \u001b[0;32mNone\u001b[0m \u001b[0;32melse\u001b[0m \u001b[0mself\u001b[0m\u001b[0;34m.\u001b[0m\u001b[0mvectors_norm\u001b[0m\u001b[0;34m[\u001b[0m\u001b[0;34m:\u001b[0m\u001b[0mrestrict_vocab\u001b[0m\u001b[0;34m]\u001b[0m\u001b[0;34m\u001b[0m\u001b[0;34m\u001b[0m\u001b[0m\n\u001b[0;32m--> 564\u001b[0;31m         \u001b[0mdists\u001b[0m \u001b[0;34m=\u001b[0m \u001b[0mdot\u001b[0m\u001b[0;34m(\u001b[0m\u001b[0mlimited\u001b[0m\u001b[0;34m,\u001b[0m \u001b[0mmean\u001b[0m\u001b[0;34m)\u001b[0m\u001b[0;34m\u001b[0m\u001b[0;34m\u001b[0m\u001b[0m\n\u001b[0m\u001b[1;32m    565\u001b[0m         \u001b[0;32mif\u001b[0m \u001b[0;32mnot\u001b[0m \u001b[0mtopn\u001b[0m\u001b[0;34m:\u001b[0m\u001b[0;34m\u001b[0m\u001b[0;34m\u001b[0m\u001b[0m\n\u001b[1;32m    566\u001b[0m             \u001b[0;32mreturn\u001b[0m \u001b[0mdists\u001b[0m\u001b[0;34m\u001b[0m\u001b[0;34m\u001b[0m\u001b[0m\n",
      "\u001b[0;31mKeyboardInterrupt\u001b[0m: "
     ]
    }
   ],
   "source": [
    "from tqdm import tqdm\n",
    "from collections import Counter\n",
    "\n",
    "result = []\n",
    "for _id, sids in tqdm(x_test[['id', 'songs']].values):\n",
    "    tmp = []\n",
    "\n",
    "    for sid in sids:\n",
    "        index = sid2index[sid]\n",
    "        target_id = w2v.wv.index2word[index]\n",
    "        sim_ids = np.array(\n",
    "            w2v.wv.similar_by_word(\n",
    "                target_id, \n",
    "                topn=100,\n",
    "            )\n",
    "        )\n",
    "        tmp += list(sim_ids[:, 0])\n",
    "\n",
    "    if len(sids) == 0:\n",
    "        res_sids =\n",
    "\n",
    "    else:\n",
    "        tmp = [sid for sid in tmp if sid not in sids]\n",
    "        cnt_of_sids = Counter(tmp)\n",
    "        res_sids = [\n",
    "            int(sid)\n",
    "            for sid, cnt in cnt_of_sids.most_common(100)\n",
    "        ]\n",
    "\n",
    "    result.append({\n",
    "        'id': _id,\n",
    "        'songs': res_sids,\n",
    "        'tags': [],\n",
    "    })"
   ]
  },
  {
   "cell_type": "code",
   "execution_count": null,
   "metadata": {},
   "outputs": [],
   "source": []
  },
  {
   "cell_type": "code",
   "execution_count": null,
   "metadata": {},
   "outputs": [],
   "source": []
  },
  {
   "cell_type": "code",
   "execution_count": 10,
   "metadata": {
    "ExecuteTime": {
     "end_time": "2020-05-30T08:21:12.895894Z",
     "start_time": "2020-05-30T08:21:12.892890Z"
    }
   },
   "outputs": [],
   "source": [
    "from word2vec import word2vec"
   ]
  },
  {
   "cell_type": "code",
   "execution_count": null,
   "metadata": {},
   "outputs": [],
   "source": []
  }
 ],
 "metadata": {
  "kernelspec": {
   "display_name": "Python 3",
   "language": "python",
   "name": "python3"
  },
  "language_info": {
   "codemirror_mode": {
    "name": "ipython",
    "version": 3
   },
   "file_extension": ".py",
   "mimetype": "text/x-python",
   "name": "python",
   "nbconvert_exporter": "python",
   "pygments_lexer": "ipython3",
   "version": "3.7.6"
  }
 },
 "nbformat": 4,
 "nbformat_minor": 2
}
